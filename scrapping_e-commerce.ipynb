{
 "cells": [
  {
   "cell_type": "markdown",
   "metadata": {},
   "source": [
    "======================================\\\n",
    "Graded Challange 3\n",
    "\n",
    "Nama: Yobi Aditias\\\n",
    "Phase: 0\\\n",
    "Program : FTDS\\\n",
    "Lok: Pondok Indah\\\n",
    "======================================\\"
   ]
  },
  {
   "cell_type": "code",
   "execution_count": 43,
   "metadata": {},
   "outputs": [],
   "source": [
    "# proses import package yang diperlukan\n",
    "from selenium import webdriver\n",
    "from bs4 import BeautifulSoup\n",
    "import pandas as pd\n",
    "import requests\n",
    "import time\n",
    "import numpy as np\n",
    "from scipy import stats"
   ]
  },
  {
   "cell_type": "markdown",
   "metadata": {},
   "source": [
    "# A. Web Scraping"
   ]
  },
  {
   "cell_type": "code",
   "execution_count": 14,
   "metadata": {},
   "outputs": [
    {
     "name": "stdout",
     "output_type": "stream",
     "text": [
      "<html data-rh=\"lang,translate\" lang=\"id\" translate=\"no\">\n",
      " <head>\n",
      "  <title>\n",
      "   Jual seblak | Tokopedia\n",
      "  </title>\n",
      "  <meta charset=\"utf-8\"/>\n",
      "  <meta content=\"initial-scale=1, minimum-scale=1, maximum-scale=5, user-scalable=yes, width=device-width\" name=\"viewport\"/>\n",
      "  <link crossorigin=\"\" href=\"https://assets.tokopedia.net\" rel=\"preconnect\"/>\n",
      "  <link href=\"https://assets.tokopedia.net\" nonce=\"\" rel=\"dns-prefetch\"/>\n",
      "  <link crossorigin=\"\" href=\"https://gql.tokopedia.com\" rel=\"preconnect\"/>\n",
      "  <link href=\"https://gql.tokopedia.com\" nonce=\"\" rel=\"dns-prefetch\"/>\n",
      "  <link crossorigin=\"\" href=\"https://googleads.g.doubleclick.net\" rel=\"preconnect\"/>\n",
      "  <link href=\"https://googleads.g.doubleclick.net\" no\n"
     ]
    }
   ],
   "source": [
    "driver = webdriver.Chrome()\n",
    "\n",
    "url=\"https://www.tokopedia.com/search?navsource=&page=1&q=seblak&srp_component_id=02.01.00.00&srp_page_id=&srp_page_title=&st=\"\n",
    "driver.get(url)\n",
    "html = driver.page_source\n",
    "\n",
    "soup = BeautifulSoup(html, \"html.parser\") \n",
    "print(soup.prettify()[:700])"
   ]
  },
  {
   "cell_type": "code",
   "execution_count": 15,
   "metadata": {},
   "outputs": [],
   "source": [
    "list_data = []\n",
    "\n",
    "for i in range(1,11):\n",
    "    url=\"https://www.tokopedia.com/search?navsource=&page={}&q=seblak&srp_component_id=02.01.00.00&srp_page_id=&srp_page_title=&st=\".format(i)\n",
    "    driver.get(url)\n",
    "\n",
    "    time.sleep(3)\n",
    "\n",
    "    html = driver.page_source\n",
    "    soup = BeautifulSoup(html, \"html.parser\")\n",
    "\n",
    "    time.sleep(1)\n",
    "\n",
    "    \"\"\"kelas css-974ipl digunakan sebagai pengikat yang mengambil data-data didalamnya,\n",
    "    maksudnya ialah supaya masing-masing kelas tidak diambil dalam list masing2\n",
    "    supaya tidak ada yang tertukar ketika len dari masing2 kelas tidak sama panjang\"\"\"\n",
    "    for item in soup.find_all('div', {\"class\": \"css-974ipl\"}):\n",
    "        dataperkelas = {\n",
    "            'nama_produk': item.find('div', {\"class\":\"prd_link-product-name css-3um8ox\"}).get_text() if item.find('div', {\"class\":\"prd_link-product-name css-3um8ox\"}) else None,\n",
    "            'harga': item.find('div', {\"class\":\"prd_link-product-price css-1ksb19c\"}).get_text() if item.find('div', {\"class\":\"prd_link-product-price css-1ksb19c\"}) else None,\n",
    "            'nama_toko': item.find('span', {\"class\": \"prd_link-shop-name css-1kdc32b flip\"}).get_text() if item.find('span', {\"class\": \"prd_link-shop-name css-1kdc32b flip\"}) else None,\n",
    "            'lokasi': item.find('span', {\"class\": \"prd_link-shop-loc css-1kdc32b flip\"}).get_text() if item.find('span', {\"class\": \"prd_link-shop-loc css-1kdc32b flip\"}) else None,\n",
    "            'total_terjual': item.find('span', {\"class\": \"prd_label-integrity css-1duhs3e\"}).get_text() if item.find('span', {\"class\": \"prd_label-integrity css-1duhs3e\"}) else None,\n",
    "            'rating': item.find('span', {\"class\": \"prd_rating-average-text css-t70v7i\"}).get_text() if item.find('span', {\"prd_rating-average-text css-t70v7i\"}) else None\n",
    "        }\n",
    "        list_data.append(dataperkelas)\n",
    "\n",
    "datatokped = pd.DataFrame(list_data)\n"
   ]
  },
  {
   "cell_type": "markdown",
   "metadata": {},
   "source": [
    "Pada tahapan ini, didapati bahwa toko yang berada dalam kolom iklan tidak memiliki lokasi dan nama toko dalam kelas css-974ipl. Sehingga dalam menyingkirkan data produk yang berada pada kolom iklan dilakukan saat data cleaning."
   ]
  },
  {
   "cell_type": "code",
   "execution_count": 17,
   "metadata": {},
   "outputs": [
    {
     "name": "stdout",
     "output_type": "stream",
     "text": [
      "<class 'pandas.core.frame.DataFrame'>\n",
      "RangeIndex: 374 entries, 0 to 373\n",
      "Data columns (total 6 columns):\n",
      " #   Column         Non-Null Count  Dtype \n",
      "---  ------         --------------  ----- \n",
      " 0   nama_produk    374 non-null    object\n",
      " 1   harga          374 non-null    object\n",
      " 2   nama_toko      350 non-null    object\n",
      " 3   lokasi         350 non-null    object\n",
      " 4   total_terjual  363 non-null    object\n",
      " 5   rating         357 non-null    object\n",
      "dtypes: object(6)\n",
      "memory usage: 17.7+ KB\n"
     ]
    }
   ],
   "source": [
    "datatokped.info()"
   ]
  },
  {
   "cell_type": "markdown",
   "metadata": {},
   "source": [
    "Hasil scrapping didapati bahwa jumlah produk toko yang telah di scrape sebanyak 374 yang masih terdapat nilai null disana baik di rating dan total terjual atau pada toko dan lokasinya. pada kasus toko dan lokasi itu mengartikan toko tersebut berada pada bagian iklan yang nanti akan dibersihkan karena nama toko dan lokasinya tidak berada di dalam kotak class \"css-974ipl\". Sedangkan ketidak adaan dari rating ataupun total terjual menandakan toko tersebut masih baru dan akan dihilangkan dalam data cleaning"
   ]
  },
  {
   "cell_type": "code",
   "execution_count": 18,
   "metadata": {},
   "outputs": [
    {
     "data": {
      "text/plain": [
       "'digunakan untuk menyimmpan data \\nsupaya dapat dikerjakan lagi ketika vscode ditutup'"
      ]
     },
     "execution_count": 18,
     "metadata": {},
     "output_type": "execute_result"
    }
   ],
   "source": [
    "datatokped.to_csv(\"Data_Scraping.csv\", index=False)\n",
    "\"\"\"digunakan untuk menyimmpan data \n",
    "supaya dapat dikerjakan lagi ketika vscode ditutup.\n",
    "saya beri (1) bila ingin melakukan run dari awal\n",
    "maka csv yang sudah ada tidak tertimpa\"\"\""
   ]
  },
  {
   "cell_type": "code",
   "execution_count": 44,
   "metadata": {},
   "outputs": [
    {
     "data": {
      "text/plain": [
       "'datascrap merupakan variabel yang selanjutnya akan \\ndigunakan sebagai data diolah\\nSelain itu dilakukan pengamanan ekstra dengan mengcopy file\\nData_Scraping_GC3.csv ke folder lain'"
      ]
     },
     "execution_count": 44,
     "metadata": {},
     "output_type": "execute_result"
    }
   ],
   "source": [
    "datascrap = pd.read_csv(\"Data_Scraping.csv\")\n",
    "\"\"\"datascrap merupakan variabel yang selanjutnya akan \n",
    "digunakan sebagai data diolah\n",
    "Selain itu dilakukan pengamanan ekstra dengan mengcopy file\n",
    "Data_Scraping_GC3.csv ke folder lain\"\"\""
   ]
  },
  {
   "cell_type": "markdown",
   "metadata": {},
   "source": [
    "# B. Data Preparation"
   ]
  },
  {
   "cell_type": "markdown",
   "metadata": {},
   "source": [
    "### 1. Lakukan eksplorasi data sederhana:\n",
    "\n",
    "- Tampilkan beberapa baris data - tuliskan insight\n",
    "- Tampilkan informasi rangkuman data - tuliskan insight dan berikan penjelasan langkah apa yang akan kamu lakukan\n",
    "- Cek missing value - tuliskan insight dari temuan yang kamu dapatkan"
   ]
  },
  {
   "cell_type": "code",
   "execution_count": 5,
   "metadata": {},
   "outputs": [
    {
     "data": {
      "text/html": [
       "<div>\n",
       "<style scoped>\n",
       "    .dataframe tbody tr th:only-of-type {\n",
       "        vertical-align: middle;\n",
       "    }\n",
       "\n",
       "    .dataframe tbody tr th {\n",
       "        vertical-align: top;\n",
       "    }\n",
       "\n",
       "    .dataframe thead th {\n",
       "        text-align: right;\n",
       "    }\n",
       "</style>\n",
       "<table border=\"1\" class=\"dataframe\">\n",
       "  <thead>\n",
       "    <tr style=\"text-align: right;\">\n",
       "      <th></th>\n",
       "      <th>nama_produk</th>\n",
       "      <th>harga</th>\n",
       "      <th>nama_toko</th>\n",
       "      <th>lokasi</th>\n",
       "      <th>total_terjual</th>\n",
       "      <th>rating</th>\n",
       "    </tr>\n",
       "  </thead>\n",
       "  <tbody>\n",
       "    <tr>\n",
       "      <th>0</th>\n",
       "      <td>SEBLAK JUARA INSTAN MASAK BASAH ASLI BANDUNG E...</td>\n",
       "      <td>Rp 22.000</td>\n",
       "      <td>NaN</td>\n",
       "      <td>NaN</td>\n",
       "      <td>1 rb+ terjual</td>\n",
       "      <td>4.9</td>\n",
       "    </tr>\n",
       "    <tr>\n",
       "      <th>1</th>\n",
       "      <td>Seblak Juara ! Seblak Instan Rasa Original - 2...</td>\n",
       "      <td>Rp 115.000</td>\n",
       "      <td>NaN</td>\n",
       "      <td>NaN</td>\n",
       "      <td>2 rb+ terjual</td>\n",
       "      <td>4.9</td>\n",
       "    </tr>\n",
       "    <tr>\n",
       "      <th>2</th>\n",
       "      <td>CUANKIE JUARA! CUANKIE JAJANAN KULINER ENAK KH...</td>\n",
       "      <td>Rp 22.000</td>\n",
       "      <td>NaN</td>\n",
       "      <td>NaN</td>\n",
       "      <td>250+ terjual</td>\n",
       "      <td>4.9</td>\n",
       "    </tr>\n",
       "    <tr>\n",
       "      <th>3</th>\n",
       "      <td>seblak instan jeletot jajanan hits bandung 1 p...</td>\n",
       "      <td>Rp4.180</td>\n",
       "      <td>tokomakanankalimantan</td>\n",
       "      <td>Jakarta Barat</td>\n",
       "      <td>1 rb+ terjual</td>\n",
       "      <td>4.8</td>\n",
       "    </tr>\n",
       "    <tr>\n",
       "      <th>4</th>\n",
       "      <td>Kerupuk Seblak Rafael Viral - PEDAS DJ, 125 GRAM</td>\n",
       "      <td>Rp11.640</td>\n",
       "      <td>Golden Cakery</td>\n",
       "      <td>Jakarta Pusat</td>\n",
       "      <td>25 terjual</td>\n",
       "      <td>4.8</td>\n",
       "    </tr>\n",
       "    <tr>\n",
       "      <th>...</th>\n",
       "      <td>...</td>\n",
       "      <td>...</td>\n",
       "      <td>...</td>\n",
       "      <td>...</td>\n",
       "      <td>...</td>\n",
       "      <td>...</td>\n",
       "    </tr>\n",
       "    <tr>\n",
       "      <th>369</th>\n",
       "      <td>Seblak Instan Pedas Home Made</td>\n",
       "      <td>Rp3.500</td>\n",
       "      <td>the Dhecip</td>\n",
       "      <td>Tangerang Selatan</td>\n",
       "      <td>2 rb+ terjual</td>\n",
       "      <td>4.8</td>\n",
       "    </tr>\n",
       "    <tr>\n",
       "      <th>370</th>\n",
       "      <td>KERUPUK PEDAS KRIWIL BANTAT ISI 250gr KRITING ...</td>\n",
       "      <td>Rp17.248</td>\n",
       "      <td>AHR Jaya Snack</td>\n",
       "      <td>Jakarta Timur</td>\n",
       "      <td>20 terjual</td>\n",
       "      <td>5.0</td>\n",
       "    </tr>\n",
       "    <tr>\n",
       "      <th>371</th>\n",
       "      <td>SEBRING KRUPUK KERUPUK SEBLAK KERING PEDAS DAU...</td>\n",
       "      <td>Rp16.000</td>\n",
       "      <td>Aydaa Snack</td>\n",
       "      <td>Surakarta</td>\n",
       "      <td>40+ terjual</td>\n",
       "      <td>4.9</td>\n",
       "    </tr>\n",
       "    <tr>\n",
       "      <th>372</th>\n",
       "      <td>Seblak Instan Komplit Pedas Gurih Nikmat</td>\n",
       "      <td>Rp5.999</td>\n",
       "      <td>Baso Aci Ayang</td>\n",
       "      <td>Kab. Garut</td>\n",
       "      <td>2 rb+ terjual</td>\n",
       "      <td>4.9</td>\n",
       "    </tr>\n",
       "    <tr>\n",
       "      <th>373</th>\n",
       "      <td>KERUPUK SEBLAK MINI KENCUR JABLAY BANTET PEDAS...</td>\n",
       "      <td>Rp21.000</td>\n",
       "      <td>ajs(ale jaya snack)</td>\n",
       "      <td>Jakarta Utara</td>\n",
       "      <td>18 terjual</td>\n",
       "      <td>5.0</td>\n",
       "    </tr>\n",
       "  </tbody>\n",
       "</table>\n",
       "<p>374 rows × 6 columns</p>\n",
       "</div>"
      ],
      "text/plain": [
       "                                           nama_produk       harga   \n",
       "0    SEBLAK JUARA INSTAN MASAK BASAH ASLI BANDUNG E...   Rp 22.000  \\\n",
       "1    Seblak Juara ! Seblak Instan Rasa Original - 2...  Rp 115.000   \n",
       "2    CUANKIE JUARA! CUANKIE JAJANAN KULINER ENAK KH...   Rp 22.000   \n",
       "3    seblak instan jeletot jajanan hits bandung 1 p...     Rp4.180   \n",
       "4     Kerupuk Seblak Rafael Viral - PEDAS DJ, 125 GRAM    Rp11.640   \n",
       "..                                                 ...         ...   \n",
       "369                      Seblak Instan Pedas Home Made     Rp3.500   \n",
       "370  KERUPUK PEDAS KRIWIL BANTAT ISI 250gr KRITING ...    Rp17.248   \n",
       "371  SEBRING KRUPUK KERUPUK SEBLAK KERING PEDAS DAU...    Rp16.000   \n",
       "372           Seblak Instan Komplit Pedas Gurih Nikmat     Rp5.999   \n",
       "373  KERUPUK SEBLAK MINI KENCUR JABLAY BANTET PEDAS...    Rp21.000   \n",
       "\n",
       "                 nama_toko             lokasi  total_terjual  rating  \n",
       "0                      NaN                NaN  1 rb+ terjual     4.9  \n",
       "1                      NaN                NaN  2 rb+ terjual     4.9  \n",
       "2                      NaN                NaN   250+ terjual     4.9  \n",
       "3    tokomakanankalimantan      Jakarta Barat  1 rb+ terjual     4.8  \n",
       "4            Golden Cakery      Jakarta Pusat     25 terjual     4.8  \n",
       "..                     ...                ...            ...     ...  \n",
       "369             the Dhecip  Tangerang Selatan  2 rb+ terjual     4.8  \n",
       "370         AHR Jaya Snack      Jakarta Timur     20 terjual     5.0  \n",
       "371            Aydaa Snack          Surakarta    40+ terjual     4.9  \n",
       "372         Baso Aci Ayang         Kab. Garut  2 rb+ terjual     4.9  \n",
       "373    ajs(ale jaya snack)      Jakarta Utara     18 terjual     5.0  \n",
       "\n",
       "[374 rows x 6 columns]"
      ]
     },
     "execution_count": 5,
     "metadata": {},
     "output_type": "execute_result"
    }
   ],
   "source": [
    "datascrap"
   ]
  },
  {
   "cell_type": "code",
   "execution_count": 6,
   "metadata": {},
   "outputs": [
    {
     "name": "stdout",
     "output_type": "stream",
     "text": [
      "<class 'pandas.core.frame.DataFrame'>\n",
      "RangeIndex: 374 entries, 0 to 373\n",
      "Data columns (total 6 columns):\n",
      " #   Column         Non-Null Count  Dtype  \n",
      "---  ------         --------------  -----  \n",
      " 0   nama_produk    374 non-null    object \n",
      " 1   harga          374 non-null    object \n",
      " 2   nama_toko      350 non-null    object \n",
      " 3   lokasi         350 non-null    object \n",
      " 4   total_terjual  363 non-null    object \n",
      " 5   rating         357 non-null    float64\n",
      "dtypes: float64(1), object(5)\n",
      "memory usage: 17.7+ KB\n"
     ]
    }
   ],
   "source": [
    "datascrap.info()"
   ]
  },
  {
   "cell_type": "markdown",
   "metadata": {},
   "source": [
    "Dalam eksplorasi menampilkan data dan menggunakan fungsi .info() didapati terdapat 374 data toko yang masing-masing masih dalam bentuk string kecuali pada rating yang sudah dalam keaadan float. Sehingga langkah berikutnya ialah membersihkan data yang memiliki NAN karena berupa toko dalam iklan dan toko yang masih baru yang data ini tidak akan digunakan dalam riset lebih lanjut."
   ]
  },
  {
   "cell_type": "markdown",
   "metadata": {},
   "source": [
    "### 2. Data Cleaning\n",
    "\n",
    "handle missing value, mengubah bentuk atau tipe data, perhitungan statistik"
   ]
  },
  {
   "cell_type": "code",
   "execution_count": 45,
   "metadata": {},
   "outputs": [
    {
     "name": "stdout",
     "output_type": "stream",
     "text": [
      "<class 'pandas.core.frame.DataFrame'>\n",
      "Index: 336 entries, 3 to 373\n",
      "Data columns (total 6 columns):\n",
      " #   Column         Non-Null Count  Dtype  \n",
      "---  ------         --------------  -----  \n",
      " 0   nama_produk    336 non-null    object \n",
      " 1   harga          336 non-null    object \n",
      " 2   nama_toko      336 non-null    object \n",
      " 3   lokasi         336 non-null    object \n",
      " 4   total_terjual  336 non-null    object \n",
      " 5   rating         336 non-null    float64\n",
      "dtypes: float64(1), object(5)\n",
      "memory usage: 18.4+ KB\n"
     ]
    }
   ],
   "source": [
    "cleanNAN = datascrap.dropna()\n",
    "cleanNAN.info()"
   ]
  },
  {
   "cell_type": "markdown",
   "metadata": {},
   "source": [
    "Proses ini menggunakan fungsi .dropna() untuk menghapus data atau baris yang ada nilai null nya didalamnya"
   ]
  },
  {
   "cell_type": "code",
   "execution_count": 8,
   "metadata": {},
   "outputs": [
    {
     "data": {
      "text/html": [
       "<div>\n",
       "<style scoped>\n",
       "    .dataframe tbody tr th:only-of-type {\n",
       "        vertical-align: middle;\n",
       "    }\n",
       "\n",
       "    .dataframe tbody tr th {\n",
       "        vertical-align: top;\n",
       "    }\n",
       "\n",
       "    .dataframe thead th {\n",
       "        text-align: right;\n",
       "    }\n",
       "</style>\n",
       "<table border=\"1\" class=\"dataframe\">\n",
       "  <thead>\n",
       "    <tr style=\"text-align: right;\">\n",
       "      <th></th>\n",
       "      <th>nama_produk</th>\n",
       "      <th>harga</th>\n",
       "      <th>nama_toko</th>\n",
       "      <th>lokasi</th>\n",
       "      <th>total_terjual</th>\n",
       "      <th>rating</th>\n",
       "    </tr>\n",
       "  </thead>\n",
       "  <tbody>\n",
       "    <tr>\n",
       "      <th>3</th>\n",
       "      <td>seblak instan jeletot jajanan hits bandung 1 p...</td>\n",
       "      <td>Rp4.180</td>\n",
       "      <td>tokomakanankalimantan</td>\n",
       "      <td>Jakarta Barat</td>\n",
       "      <td>1 rb+ terjual</td>\n",
       "      <td>4.8</td>\n",
       "    </tr>\n",
       "    <tr>\n",
       "      <th>4</th>\n",
       "      <td>Kerupuk Seblak Rafael Viral - PEDAS DJ, 125 GRAM</td>\n",
       "      <td>Rp11.640</td>\n",
       "      <td>Golden Cakery</td>\n",
       "      <td>Jakarta Pusat</td>\n",
       "      <td>25 terjual</td>\n",
       "      <td>4.8</td>\n",
       "    </tr>\n",
       "    <tr>\n",
       "      <th>6</th>\n",
       "      <td>KERUPUK SEBLAK MENTAH ANEKA WARNA</td>\n",
       "      <td>Rp11.500</td>\n",
       "      <td>jajanangarut19</td>\n",
       "      <td>Jakarta Selatan</td>\n",
       "      <td>100+ terjual</td>\n",
       "      <td>4.9</td>\n",
       "    </tr>\n",
       "    <tr>\n",
       "      <th>7</th>\n",
       "      <td>Seblak Instan Ceu Nthien Khas Bandung Rasana N...</td>\n",
       "      <td>Rp15.000</td>\n",
       "      <td>Central Seblak Nusantara</td>\n",
       "      <td>Tangerang Selatan</td>\n",
       "      <td>1 rb+ terjual</td>\n",
       "      <td>5.0</td>\n",
       "    </tr>\n",
       "    <tr>\n",
       "      <th>8</th>\n",
       "      <td>seblak frozen</td>\n",
       "      <td>Rp10.400</td>\n",
       "      <td>pelangi girls naget</td>\n",
       "      <td>Jakarta Timur</td>\n",
       "      <td>2 rb+ terjual</td>\n",
       "      <td>4.9</td>\n",
       "    </tr>\n",
       "    <tr>\n",
       "      <th>...</th>\n",
       "      <td>...</td>\n",
       "      <td>...</td>\n",
       "      <td>...</td>\n",
       "      <td>...</td>\n",
       "      <td>...</td>\n",
       "      <td>...</td>\n",
       "    </tr>\n",
       "    <tr>\n",
       "      <th>369</th>\n",
       "      <td>Seblak Instan Pedas Home Made</td>\n",
       "      <td>Rp3.500</td>\n",
       "      <td>the Dhecip</td>\n",
       "      <td>Tangerang Selatan</td>\n",
       "      <td>2 rb+ terjual</td>\n",
       "      <td>4.8</td>\n",
       "    </tr>\n",
       "    <tr>\n",
       "      <th>370</th>\n",
       "      <td>KERUPUK PEDAS KRIWIL BANTAT ISI 250gr KRITING ...</td>\n",
       "      <td>Rp17.248</td>\n",
       "      <td>AHR Jaya Snack</td>\n",
       "      <td>Jakarta Timur</td>\n",
       "      <td>20 terjual</td>\n",
       "      <td>5.0</td>\n",
       "    </tr>\n",
       "    <tr>\n",
       "      <th>371</th>\n",
       "      <td>SEBRING KRUPUK KERUPUK SEBLAK KERING PEDAS DAU...</td>\n",
       "      <td>Rp16.000</td>\n",
       "      <td>Aydaa Snack</td>\n",
       "      <td>Surakarta</td>\n",
       "      <td>40+ terjual</td>\n",
       "      <td>4.9</td>\n",
       "    </tr>\n",
       "    <tr>\n",
       "      <th>372</th>\n",
       "      <td>Seblak Instan Komplit Pedas Gurih Nikmat</td>\n",
       "      <td>Rp5.999</td>\n",
       "      <td>Baso Aci Ayang</td>\n",
       "      <td>Kab. Garut</td>\n",
       "      <td>2 rb+ terjual</td>\n",
       "      <td>4.9</td>\n",
       "    </tr>\n",
       "    <tr>\n",
       "      <th>373</th>\n",
       "      <td>KERUPUK SEBLAK MINI KENCUR JABLAY BANTET PEDAS...</td>\n",
       "      <td>Rp21.000</td>\n",
       "      <td>ajs(ale jaya snack)</td>\n",
       "      <td>Jakarta Utara</td>\n",
       "      <td>18 terjual</td>\n",
       "      <td>5.0</td>\n",
       "    </tr>\n",
       "  </tbody>\n",
       "</table>\n",
       "<p>336 rows × 6 columns</p>\n",
       "</div>"
      ],
      "text/plain": [
       "                                           nama_produk     harga   \n",
       "3    seblak instan jeletot jajanan hits bandung 1 p...   Rp4.180  \\\n",
       "4     Kerupuk Seblak Rafael Viral - PEDAS DJ, 125 GRAM  Rp11.640   \n",
       "6                    KERUPUK SEBLAK MENTAH ANEKA WARNA  Rp11.500   \n",
       "7    Seblak Instan Ceu Nthien Khas Bandung Rasana N...  Rp15.000   \n",
       "8                                        seblak frozen  Rp10.400   \n",
       "..                                                 ...       ...   \n",
       "369                      Seblak Instan Pedas Home Made   Rp3.500   \n",
       "370  KERUPUK PEDAS KRIWIL BANTAT ISI 250gr KRITING ...  Rp17.248   \n",
       "371  SEBRING KRUPUK KERUPUK SEBLAK KERING PEDAS DAU...  Rp16.000   \n",
       "372           Seblak Instan Komplit Pedas Gurih Nikmat   Rp5.999   \n",
       "373  KERUPUK SEBLAK MINI KENCUR JABLAY BANTET PEDAS...  Rp21.000   \n",
       "\n",
       "                    nama_toko             lokasi  total_terjual  rating  \n",
       "3       tokomakanankalimantan      Jakarta Barat  1 rb+ terjual     4.8  \n",
       "4               Golden Cakery      Jakarta Pusat     25 terjual     4.8  \n",
       "6              jajanangarut19    Jakarta Selatan   100+ terjual     4.9  \n",
       "7    Central Seblak Nusantara  Tangerang Selatan  1 rb+ terjual     5.0  \n",
       "8         pelangi girls naget      Jakarta Timur  2 rb+ terjual     4.9  \n",
       "..                        ...                ...            ...     ...  \n",
       "369                the Dhecip  Tangerang Selatan  2 rb+ terjual     4.8  \n",
       "370            AHR Jaya Snack      Jakarta Timur     20 terjual     5.0  \n",
       "371               Aydaa Snack          Surakarta    40+ terjual     4.9  \n",
       "372            Baso Aci Ayang         Kab. Garut  2 rb+ terjual     4.9  \n",
       "373       ajs(ale jaya snack)      Jakarta Utara     18 terjual     5.0  \n",
       "\n",
       "[336 rows x 6 columns]"
      ]
     },
     "execution_count": 8,
     "metadata": {},
     "output_type": "execute_result"
    }
   ],
   "source": [
    "cleanNAN"
   ]
  },
  {
   "cell_type": "code",
   "execution_count": 9,
   "metadata": {},
   "outputs": [
    {
     "data": {
      "text/plain": [
       "<bound method Series.unique of 3      seblak instan jeletot jajanan hits bandung 1 p...\n",
       "4       Kerupuk Seblak Rafael Viral - PEDAS DJ, 125 GRAM\n",
       "6                      KERUPUK SEBLAK MENTAH ANEKA WARNA\n",
       "7      Seblak Instan Ceu Nthien Khas Bandung Rasana N...\n",
       "8                                          seblak frozen\n",
       "                             ...                        \n",
       "369                        Seblak Instan Pedas Home Made\n",
       "370    KERUPUK PEDAS KRIWIL BANTAT ISI 250gr KRITING ...\n",
       "371    SEBRING KRUPUK KERUPUK SEBLAK KERING PEDAS DAU...\n",
       "372             Seblak Instan Komplit Pedas Gurih Nikmat\n",
       "373    KERUPUK SEBLAK MINI KENCUR JABLAY BANTET PEDAS...\n",
       "Name: nama_produk, Length: 336, dtype: object>"
      ]
     },
     "execution_count": 9,
     "metadata": {},
     "output_type": "execute_result"
    }
   ],
   "source": [
    "# untuk mengecek apakah nama produk ada yang sama atau tidak\n",
    "cleanNAN['nama_produk'].unique"
   ]
  },
  {
   "cell_type": "markdown",
   "metadata": {},
   "source": [
    "dataframe 'cleanNAN' merupakan dataframe setelah dilakukan pembersihan data null. unik value dari kolom nama produk yang jumlahnya sama besar dengan nilai len nya (dilihat dari length yang nilainya 336), maka dianggap tidak ada data duplikat pada data, sehingga dataframe 'cleanNAN' dianggap bisa untuk dilanjutkan."
   ]
  },
  {
   "cell_type": "code",
   "execution_count": 46,
   "metadata": {},
   "outputs": [],
   "source": [
    "# dilakukan data copy bertujuan untuk menjaga bila terjadi kesalahan pengodingan\n",
    "#selain itu juga ditujukan supaya nama variabelnya lebih mudah untuk dibaca oleh programer lain\n",
    "dfseblak = cleanNAN.copy()"
   ]
  },
  {
   "cell_type": "code",
   "execution_count": 47,
   "metadata": {},
   "outputs": [],
   "source": [
    "dfseblak['harga'] = dfseblak['harga'].str.replace(\"Rp\",\"\").str.replace(\".\",\"\")\n",
    "dfseblak['total_terjual'] = dfseblak['total_terjual'].str.replace(\"terjual\",\"\").str.replace(\"rb\",\"000\").str.replace(\"+\",\"\").str.replace(\" \",\"\")\n",
    "dfseblak = dfseblak.astype({'harga':int ,'total_terjual':int})"
   ]
  },
  {
   "cell_type": "code",
   "execution_count": 12,
   "metadata": {},
   "outputs": [
    {
     "name": "stdout",
     "output_type": "stream",
     "text": [
      "<class 'pandas.core.frame.DataFrame'>\n",
      "Index: 336 entries, 3 to 373\n",
      "Data columns (total 6 columns):\n",
      " #   Column         Non-Null Count  Dtype  \n",
      "---  ------         --------------  -----  \n",
      " 0   nama_produk    336 non-null    object \n",
      " 1   harga          336 non-null    int32  \n",
      " 2   nama_toko      336 non-null    object \n",
      " 3   lokasi         336 non-null    object \n",
      " 4   total_terjual  336 non-null    int32  \n",
      " 5   rating         336 non-null    float64\n",
      "dtypes: float64(1), int32(2), object(3)\n",
      "memory usage: 15.8+ KB\n"
     ]
    }
   ],
   "source": [
    "dfseblak.info()"
   ]
  },
  {
   "cell_type": "markdown",
   "metadata": {},
   "source": [
    "dua kodingan diatas merupakan upaya dalam menyikapi kolom harga dan total terjual. Dimulai dengan menghapus string yang tidak diperlukan dan mengubahnya menjadi int. Tak lupa string rb diganti dengan angka nol 3"
   ]
  },
  {
   "cell_type": "markdown",
   "metadata": {},
   "source": [
    "# C. Problem Statmenet"
   ]
  },
  {
   "cell_type": "markdown",
   "metadata": {},
   "source": [
    "Case: Kamu adalah seorang penjual seblak yang cukup terkenal. Kepopuleran seblak ini terdengar hingga ke pulau-pulau lain di Indonesia. Berhubung pengiriman antar pulau, rata-rata produk yang diterima oleh konsumen luar Pulau Jawa sudah tidak sebagus seperti yang diawal. Hal ini mengakibatkan rating toko kamu turun hingga 3.7.\n",
    "Akhirnya kamu memutuskan untuk membuat gudang di daerah luar Pulau Jawa. Untuk mempermudah proses distibusi dan harapannya dapat meningkatan customer satisfication"
   ]
  },
  {
   "cell_type": "markdown",
   "metadata": {},
   "source": [
    "Metode SMART menyesuaikan dengan kondisi simulasi pada case diatas\n",
    "\n",
    "- SPESIFIC : melakukan peningkatkan rating pelanggan dengan cara meningkatkan satisfication pelanggan diluar Pulau Jawa dengan cara membuka gudang baru diluar Pulau Jawa berdasarkan analisa pesebaran penjualan\n",
    "\n",
    "- MEASUREABLE : Meningkatkan satisfication rate store dari 3.7 hingga lebih dari 4.5\n",
    "\n",
    "- ACHIEVEABLE : Hal ini dinilai cukup achieveable berdasarkan data historical rating cukup tinggi sebelum terkenal hingga ke luar pulau jawa, selain itu dari produk-produk lain yang memiliki nilai hingga 4.9 maka target ini dinilai cukup achievable\n",
    "\n",
    "- RELEVANT : Peningkatan rating itu sangat penting, pada jurnal-jurnal yang sering digunakan dalam bisnis, saat ini masyarakat cenderung lebih mempercayai data berupa UGC (User Generated Content) yang berarti rating dan ulasan dari pelanggan lain lebih cenderung untuk dijadikan tolok ukur bagi pelanggan lainya.\n",
    "\n",
    "- TIMEBOUND : Dalam waktu satu minggu sudah ditentukan dimana ingin membuka gudang dan sudah menentukan strategi marketing untuk tempat yang baru sesuai dengan hasil analisis, dalam waktu 3 bulan sudah meningkatkan rating toko dari 3.7 menjadi 4.5"
   ]
  },
  {
   "cell_type": "markdown",
   "metadata": {},
   "source": [
    "# D. Analysis"
   ]
  },
  {
   "cell_type": "markdown",
   "metadata": {},
   "source": []
  },
  {
   "cell_type": "code",
   "execution_count": 48,
   "metadata": {},
   "outputs": [
    {
     "name": "stdout",
     "output_type": "stream",
     "text": [
      "A. Harga:\n",
      "rata-rata = 14898.32\n",
      "median = 14000.0\n",
      "standar deviasi = 12344.81\n",
      "skewness = 2.93\n",
      "kurotsis = 13.58\n",
      "\n",
      "B. Jumlah Produk Terjual:\n",
      "rata-rata = 1289.05\n",
      "median = 500.0\n",
      "standar deviasi = 2421.64\n",
      "skewness = 3.02\n",
      "kurotsis = 8.2\n",
      "\n",
      "C. Rating:\n",
      "rata-rata = 4.87\n",
      "median = 4.9\n",
      "standar deviasi = 0.13\n",
      "skewness = -2.24\n",
      "kurotsis = 7.42\n"
     ]
    }
   ],
   "source": [
    "mean_harga = dfseblak['harga'].mean()\n",
    "med_harga = dfseblak['harga'].median()\n",
    "std_harga = dfseblak['harga'].std()\n",
    "skw_harga = dfseblak['harga'].skew()\n",
    "kur_harga = dfseblak['harga'].kurtosis()\n",
    "mean_terjual = dfseblak['total_terjual'].mean()\n",
    "med_terjual = dfseblak['total_terjual'].median()\n",
    "std_terjual = dfseblak['total_terjual'].std()\n",
    "skw_terjual = dfseblak['total_terjual'].skew()\n",
    "kur_terjual = dfseblak['total_terjual'].kurtosis()\n",
    "mean_rating = dfseblak['rating'].mean()\n",
    "med_rating = dfseblak['rating'].median()\n",
    "std_rating = dfseblak['rating'].std()\n",
    "skw_rating = dfseblak['rating'].skew()\n",
    "kur_rating = dfseblak['rating'].kurtosis()\n",
    "\n",
    "print(f\"A. Harga:\\nrata-rata = {round(mean_harga, 2)}\\nmedian = {round(med_harga, 2)}\\nstandar deviasi = {round(std_harga, 2)}\\nskewness = {round(skw_harga, 2)}\\nkurotsis = {round(kur_harga, 2)}\")\n",
    "print(f\"\\nB. Jumlah Produk Terjual:\\nrata-rata = {round(mean_terjual, 2)}\\nmedian = {round(med_terjual, 2)}\\nstandar deviasi = {round(std_terjual, 2)}\\nskewness = {round(skw_terjual, 2)}\\nkurotsis = {round(kur_terjual, 2)}\")\n",
    "print(f\"\\nC. Rating:\\nrata-rata = {round(mean_rating, 2)}\\nmedian = {round(med_rating, 2)}\\nstandar deviasi = {round(std_rating, 2)}\\nskewness = {round(skw_rating, 2)}\\nkurotsis = {round(kur_rating, 2)}\")\n"
   ]
  },
  {
   "cell_type": "markdown",
   "metadata": {},
   "source": [
    "standar deviasi pada harga bernilai skitar 12 ribu yang berarti harga-harga pada toko yang berada pada data tidak menyebar terlalu jauh. Sedangkan pada jumlah produk terjual standar deviasinya ialah 2412 yang artinya penyebaran data terkait jumlah produk terjual cukup tinggi. Sedangkan pada standar deviasi penyebaranya sangat rendah karena standar deviasinya ialah 0.13, bahkan untuk ukuran rating yang jaraknya 1 sampai 5, std bernilai 0,13 menandakan pesebaran data sangat rendah.\n",
    "Nilai skewness pada jumlah harga dan jumlah produk terjual sangat tinggi, yang artinya pesebaran sangat condong kearah kiri atau mendekati nol yang mengartikan terdapat data-data toko yang penjualanya atau harganya lebih tinggi dari rata-rata. Sedangkan pada rating skewnessnya menunjukan angka negatif yaitu negatif 2.24 yang artinya sebagian besar toko tersebut memiliki rating yang tinggi. Pada skala rating 1 sampai 5, maka banyak toko yang mendapat rating mendekati 5 dan kurva pesebaran cukup condong ke kanan.\n",
    "Ketiga data tersebut memiliki nilai kurtosis diatas 0 yang berarti merupakan leptokurtic dimana puncaknya cukup tinggi dan banyak data outliersnya"
   ]
  },
  {
   "cell_type": "markdown",
   "metadata": {},
   "source": [
    "#### Potensi minimum maksimum"
   ]
  },
  {
   "cell_type": "code",
   "execution_count": 49,
   "metadata": {},
   "outputs": [
    {
     "data": {
      "text/html": [
       "<div>\n",
       "<style scoped>\n",
       "    .dataframe tbody tr th:only-of-type {\n",
       "        vertical-align: middle;\n",
       "    }\n",
       "\n",
       "    .dataframe tbody tr th {\n",
       "        vertical-align: top;\n",
       "    }\n",
       "\n",
       "    .dataframe thead th {\n",
       "        text-align: right;\n",
       "    }\n",
       "</style>\n",
       "<table border=\"1\" class=\"dataframe\">\n",
       "  <thead>\n",
       "    <tr style=\"text-align: right;\">\n",
       "      <th></th>\n",
       "      <th>nama_produk</th>\n",
       "      <th>harga</th>\n",
       "      <th>nama_toko</th>\n",
       "      <th>lokasi</th>\n",
       "      <th>total_terjual</th>\n",
       "      <th>rating</th>\n",
       "      <th>total_income</th>\n",
       "    </tr>\n",
       "  </thead>\n",
       "  <tbody>\n",
       "    <tr>\n",
       "      <th>3</th>\n",
       "      <td>seblak instan jeletot jajanan hits bandung 1 p...</td>\n",
       "      <td>4180</td>\n",
       "      <td>tokomakanankalimantan</td>\n",
       "      <td>Jakarta Barat</td>\n",
       "      <td>1000</td>\n",
       "      <td>4.8</td>\n",
       "      <td>4180000</td>\n",
       "    </tr>\n",
       "    <tr>\n",
       "      <th>4</th>\n",
       "      <td>Kerupuk Seblak Rafael Viral - PEDAS DJ, 125 GRAM</td>\n",
       "      <td>11640</td>\n",
       "      <td>Golden Cakery</td>\n",
       "      <td>Jakarta Pusat</td>\n",
       "      <td>25</td>\n",
       "      <td>4.8</td>\n",
       "      <td>291000</td>\n",
       "    </tr>\n",
       "    <tr>\n",
       "      <th>6</th>\n",
       "      <td>KERUPUK SEBLAK MENTAH ANEKA WARNA</td>\n",
       "      <td>11500</td>\n",
       "      <td>jajanangarut19</td>\n",
       "      <td>Jakarta Selatan</td>\n",
       "      <td>100</td>\n",
       "      <td>4.9</td>\n",
       "      <td>1150000</td>\n",
       "    </tr>\n",
       "    <tr>\n",
       "      <th>7</th>\n",
       "      <td>Seblak Instan Ceu Nthien Khas Bandung Rasana N...</td>\n",
       "      <td>15000</td>\n",
       "      <td>Central Seblak Nusantara</td>\n",
       "      <td>Tangerang Selatan</td>\n",
       "      <td>1000</td>\n",
       "      <td>5.0</td>\n",
       "      <td>15000000</td>\n",
       "    </tr>\n",
       "    <tr>\n",
       "      <th>8</th>\n",
       "      <td>seblak frozen</td>\n",
       "      <td>10400</td>\n",
       "      <td>pelangi girls naget</td>\n",
       "      <td>Jakarta Timur</td>\n",
       "      <td>2000</td>\n",
       "      <td>4.9</td>\n",
       "      <td>20800000</td>\n",
       "    </tr>\n",
       "  </tbody>\n",
       "</table>\n",
       "</div>"
      ],
      "text/plain": [
       "                                         nama_produk  harga   \n",
       "3  seblak instan jeletot jajanan hits bandung 1 p...   4180  \\\n",
       "4   Kerupuk Seblak Rafael Viral - PEDAS DJ, 125 GRAM  11640   \n",
       "6                  KERUPUK SEBLAK MENTAH ANEKA WARNA  11500   \n",
       "7  Seblak Instan Ceu Nthien Khas Bandung Rasana N...  15000   \n",
       "8                                      seblak frozen  10400   \n",
       "\n",
       "                  nama_toko             lokasi  total_terjual  rating   \n",
       "3     tokomakanankalimantan      Jakarta Barat           1000     4.8  \\\n",
       "4             Golden Cakery      Jakarta Pusat             25     4.8   \n",
       "6            jajanangarut19    Jakarta Selatan            100     4.9   \n",
       "7  Central Seblak Nusantara  Tangerang Selatan           1000     5.0   \n",
       "8       pelangi girls naget      Jakarta Timur           2000     4.9   \n",
       "\n",
       "   total_income  \n",
       "3       4180000  \n",
       "4        291000  \n",
       "6       1150000  \n",
       "7      15000000  \n",
       "8      20800000  "
      ]
     },
     "execution_count": 49,
     "metadata": {},
     "output_type": "execute_result"
    }
   ],
   "source": [
    "dfseblak['total_income'] = dfseblak['harga']*dfseblak['total_terjual']\n",
    "\n",
    "dfseblak.head(5)"
   ]
  },
  {
   "cell_type": "code",
   "execution_count": 50,
   "metadata": {},
   "outputs": [
    {
     "name": "stdout",
     "output_type": "stream",
     "text": [
      "Batas Bawah : 7788764\n",
      "Batas Atas : 10605993\n"
     ]
    }
   ],
   "source": [
    "std = dfseblak['total_income'].std()\n",
    "\n",
    "n = len(dfseblak)\n",
    "\n",
    "low, up = stats.norm.interval(0.95,loc=dfseblak['total_income'].mean(),scale=std/np.sqrt(n))\n",
    "\n",
    "print('Batas Bawah :',round(low))\n",
    "print('Batas Atas :',round(up))"
   ]
  },
  {
   "cell_type": "markdown",
   "metadata": {},
   "source": [
    "pada kasus ini, pada soal tugas total terjual dianggap sebagai penjualan bulanan yang artinya total income dianggap sebagai penghasilan bulanan\n",
    "\n",
    "sehingga anggapnya batas bawah dan batas atas nilai confidence pada pendapatan bulanan ialah 7,7 juta dan 10,6 juta"
   ]
  },
  {
   "cell_type": "markdown",
   "metadata": {},
   "source": [
    "jabodetabek dan luar jabodetabek"
   ]
  },
  {
   "cell_type": "code",
   "execution_count": 51,
   "metadata": {},
   "outputs": [
    {
     "data": {
      "text/plain": [
       "array(['Jakarta Barat', 'Jakarta Pusat', 'Jakarta Selatan',\n",
       "       'Tangerang Selatan', 'Jakarta Timur', 'Kab. Bandung', 'Kab. Bogor',\n",
       "       'Bandung', 'Surabaya', 'Jakarta Utara', 'Kab. Bekasi',\n",
       "       'Kab. Tangerang', 'Surakarta', 'Kab. Garut', 'Medan', 'Depok',\n",
       "       'Kab.Ciamis', 'Tangerang', 'Cimahi', 'Bekasi', 'Kab. Mojokerto',\n",
       "       'Semarang'], dtype=object)"
      ]
     },
     "execution_count": 51,
     "metadata": {},
     "output_type": "execute_result"
    }
   ],
   "source": [
    "dfseblak['lokasi'].unique()"
   ]
  },
  {
   "cell_type": "code",
   "execution_count": 52,
   "metadata": {},
   "outputs": [
    {
     "data": {
      "text/html": [
       "<div>\n",
       "<style scoped>\n",
       "    .dataframe tbody tr th:only-of-type {\n",
       "        vertical-align: middle;\n",
       "    }\n",
       "\n",
       "    .dataframe tbody tr th {\n",
       "        vertical-align: top;\n",
       "    }\n",
       "\n",
       "    .dataframe thead th {\n",
       "        text-align: right;\n",
       "    }\n",
       "</style>\n",
       "<table border=\"1\" class=\"dataframe\">\n",
       "  <thead>\n",
       "    <tr style=\"text-align: right;\">\n",
       "      <th></th>\n",
       "      <th>nama_produk</th>\n",
       "      <th>harga</th>\n",
       "      <th>nama_toko</th>\n",
       "      <th>lokasi</th>\n",
       "      <th>total_terjual</th>\n",
       "      <th>rating</th>\n",
       "      <th>total_income</th>\n",
       "      <th>wilayah</th>\n",
       "    </tr>\n",
       "  </thead>\n",
       "  <tbody>\n",
       "    <tr>\n",
       "      <th>3</th>\n",
       "      <td>seblak instan jeletot jajanan hits bandung 1 p...</td>\n",
       "      <td>4180</td>\n",
       "      <td>tokomakanankalimantan</td>\n",
       "      <td>Jakarta Barat</td>\n",
       "      <td>1000</td>\n",
       "      <td>4.8</td>\n",
       "      <td>4180000</td>\n",
       "      <td>jkt</td>\n",
       "    </tr>\n",
       "    <tr>\n",
       "      <th>4</th>\n",
       "      <td>Kerupuk Seblak Rafael Viral - PEDAS DJ, 125 GRAM</td>\n",
       "      <td>11640</td>\n",
       "      <td>Golden Cakery</td>\n",
       "      <td>Jakarta Pusat</td>\n",
       "      <td>25</td>\n",
       "      <td>4.8</td>\n",
       "      <td>291000</td>\n",
       "      <td>jkt</td>\n",
       "    </tr>\n",
       "    <tr>\n",
       "      <th>6</th>\n",
       "      <td>KERUPUK SEBLAK MENTAH ANEKA WARNA</td>\n",
       "      <td>11500</td>\n",
       "      <td>jajanangarut19</td>\n",
       "      <td>Jakarta Selatan</td>\n",
       "      <td>100</td>\n",
       "      <td>4.9</td>\n",
       "      <td>1150000</td>\n",
       "      <td>jkt</td>\n",
       "    </tr>\n",
       "    <tr>\n",
       "      <th>7</th>\n",
       "      <td>Seblak Instan Ceu Nthien Khas Bandung Rasana N...</td>\n",
       "      <td>15000</td>\n",
       "      <td>Central Seblak Nusantara</td>\n",
       "      <td>Tangerang Selatan</td>\n",
       "      <td>1000</td>\n",
       "      <td>5.0</td>\n",
       "      <td>15000000</td>\n",
       "      <td>jkt</td>\n",
       "    </tr>\n",
       "    <tr>\n",
       "      <th>8</th>\n",
       "      <td>seblak frozen</td>\n",
       "      <td>10400</td>\n",
       "      <td>pelangi girls naget</td>\n",
       "      <td>Jakarta Timur</td>\n",
       "      <td>2000</td>\n",
       "      <td>4.9</td>\n",
       "      <td>20800000</td>\n",
       "      <td>jkt</td>\n",
       "    </tr>\n",
       "    <tr>\n",
       "      <th>9</th>\n",
       "      <td>Seblak Instan Pedas Home Made</td>\n",
       "      <td>3500</td>\n",
       "      <td>the Dhecip</td>\n",
       "      <td>Tangerang Selatan</td>\n",
       "      <td>2000</td>\n",
       "      <td>4.8</td>\n",
       "      <td>7000000</td>\n",
       "      <td>jkt</td>\n",
       "    </tr>\n",
       "    <tr>\n",
       "      <th>10</th>\n",
       "      <td>SEBLAK INSTANT TERMURAH</td>\n",
       "      <td>3999</td>\n",
       "      <td>Pusat Cuankie &amp; Cemilan Frozen</td>\n",
       "      <td>Jakarta Timur</td>\n",
       "      <td>10000</td>\n",
       "      <td>4.8</td>\n",
       "      <td>39990000</td>\n",
       "      <td>jkt</td>\n",
       "    </tr>\n",
       "    <tr>\n",
       "      <th>11</th>\n",
       "      <td>Bumbu Seblak 200 g Dengan Kerupuk</td>\n",
       "      <td>33000</td>\n",
       "      <td>MSH Rempah</td>\n",
       "      <td>Jakarta Selatan</td>\n",
       "      <td>70</td>\n",
       "      <td>5.0</td>\n",
       "      <td>2310000</td>\n",
       "      <td>jkt</td>\n",
       "    </tr>\n",
       "    <tr>\n",
       "      <th>12</th>\n",
       "      <td>KERUPUK MENTAH SERBA 5000 BAHAN SEBLAK</td>\n",
       "      <td>6000</td>\n",
       "      <td>GK_Snack</td>\n",
       "      <td>Kab. Bandung</td>\n",
       "      <td>500</td>\n",
       "      <td>5.0</td>\n",
       "      <td>3000000</td>\n",
       "      <td>luar</td>\n",
       "    </tr>\n",
       "    <tr>\n",
       "      <th>13</th>\n",
       "      <td>Seblak Instan Pedas Home Made</td>\n",
       "      <td>3500</td>\n",
       "      <td>the Dhecip</td>\n",
       "      <td>Tangerang Selatan</td>\n",
       "      <td>2000</td>\n",
       "      <td>4.8</td>\n",
       "      <td>7000000</td>\n",
       "      <td>jkt</td>\n",
       "    </tr>\n",
       "  </tbody>\n",
       "</table>\n",
       "</div>"
      ],
      "text/plain": [
       "                                          nama_produk  harga   \n",
       "3   seblak instan jeletot jajanan hits bandung 1 p...   4180  \\\n",
       "4    Kerupuk Seblak Rafael Viral - PEDAS DJ, 125 GRAM  11640   \n",
       "6                   KERUPUK SEBLAK MENTAH ANEKA WARNA  11500   \n",
       "7   Seblak Instan Ceu Nthien Khas Bandung Rasana N...  15000   \n",
       "8                                       seblak frozen  10400   \n",
       "9                       Seblak Instan Pedas Home Made   3500   \n",
       "10                            SEBLAK INSTANT TERMURAH   3999   \n",
       "11                  Bumbu Seblak 200 g Dengan Kerupuk  33000   \n",
       "12             KERUPUK MENTAH SERBA 5000 BAHAN SEBLAK   6000   \n",
       "13                      Seblak Instan Pedas Home Made   3500   \n",
       "\n",
       "                         nama_toko             lokasi  total_terjual  rating   \n",
       "3            tokomakanankalimantan      Jakarta Barat           1000     4.8  \\\n",
       "4                    Golden Cakery      Jakarta Pusat             25     4.8   \n",
       "6                   jajanangarut19    Jakarta Selatan            100     4.9   \n",
       "7         Central Seblak Nusantara  Tangerang Selatan           1000     5.0   \n",
       "8              pelangi girls naget      Jakarta Timur           2000     4.9   \n",
       "9                       the Dhecip  Tangerang Selatan           2000     4.8   \n",
       "10  Pusat Cuankie & Cemilan Frozen      Jakarta Timur          10000     4.8   \n",
       "11                      MSH Rempah    Jakarta Selatan             70     5.0   \n",
       "12                        GK_Snack       Kab. Bandung            500     5.0   \n",
       "13                      the Dhecip  Tangerang Selatan           2000     4.8   \n",
       "\n",
       "    total_income wilayah  \n",
       "3        4180000     jkt  \n",
       "4         291000     jkt  \n",
       "6        1150000     jkt  \n",
       "7       15000000     jkt  \n",
       "8       20800000     jkt  \n",
       "9        7000000     jkt  \n",
       "10      39990000     jkt  \n",
       "11       2310000     jkt  \n",
       "12       3000000    luar  \n",
       "13       7000000     jkt  "
      ]
     },
     "execution_count": 52,
     "metadata": {},
     "output_type": "execute_result"
    }
   ],
   "source": [
    "jabodetabek = '|'.join([\"Jakarta\", \"Tangerang\", \"Depok\", \"Bogor\", \"Bekasi\"])\n",
    "\n",
    "dfseblak['wilayah'] = np.where(dfseblak['lokasi'].str.contains(jabodetabek, case=False) , \"jkt\", \"luar\")\n",
    "\n",
    "dfseblak.head(10)"
   ]
  },
  {
   "cell_type": "code",
   "execution_count": 19,
   "metadata": {},
   "outputs": [
    {
     "name": "stdout",
     "output_type": "stream",
     "text": [
      "Rata-rata harga didalam jabodetabek ialah 14483\n",
      "Sedangkan rata-rata harga diluar ialah 16273\n"
     ]
    }
   ],
   "source": [
    "rata2_dijkt = dfseblak[dfseblak['wilayah'].isin([\"jkt\"])]['harga'].mean()\n",
    "rata2_luarjkt = dfseblak[dfseblak['wilayah'].isin([\"luar\"])]['harga'].mean()\n",
    "print(f\"Rata-rata harga didalam jabodetabek ialah {round(rata2_dijkt)}\\nSedangkan rata-rata harga diluar ialah {round(rata2_luarjkt)}\")\n"
   ]
  },
  {
   "cell_type": "markdown",
   "metadata": {},
   "source": [
    "secara rata-rata berbeda, namun pada untuk menentukan apakah berkaitan atau tidak maka akan dilakukan uji korelasi"
   ]
  },
  {
   "cell_type": "code",
   "execution_count": 22,
   "metadata": {},
   "outputs": [
    {
     "name": "stdout",
     "output_type": "stream",
     "text": [
      "rho-correlation: 0.14\n",
      "p-value: 0.011707806474975699\n"
     ]
    }
   ],
   "source": [
    "corr_rho, pval_s = stats.spearmanr(dfseblak['harga'], dfseblak['wilayah'])\n",
    "print(f\"rho-correlation: {corr_rho:.2f}\\np-value: {pval_s}\")"
   ]
  },
  {
   "cell_type": "markdown",
   "metadata": {},
   "source": [
    "H0: tidak ada hubungan antara harga dengan lokasi di dalam/luar jabodetabek\n",
    "H1: ada hubungan antara harga dengan lokasi di dalam/luar jabodetabek\n",
    "\n",
    "karena pValue lebih rendah dari 0.05, maka H0 ditolak dan variabel harga memiliki pengaruh terhadap lokasi di dalam/luar jabodetabek. Namun pengaruh tersebut cukup kecil dan tidak terlalu signifikan"
   ]
  },
  {
   "cell_type": "code",
   "execution_count": 23,
   "metadata": {},
   "outputs": [
    {
     "name": "stdout",
     "output_type": "stream",
     "text": [
      "rho-correlation: 0.40\n",
      "p-value: 2.4769796558337766e-14\n"
     ]
    }
   ],
   "source": [
    "corr_rho, pval_s = stats.spearmanr(dfseblak['harga'], dfseblak['rating'])\n",
    "print(f\"rho-correlation: {corr_rho:.2f}\\np-value: {pval_s}\")"
   ]
  },
  {
   "cell_type": "markdown",
   "metadata": {},
   "source": [
    "H0: tidak ada hubungan antara harga dengan rating\n",
    "H1: ada hubungan antara harga dengan rating\n",
    "\n",
    "pValue cukup rendah dab jauh dari 0.05 sehingga H0 ditolak, variabel harga dan rating sangat berkaitan"
   ]
  },
  {
   "cell_type": "markdown",
   "metadata": {},
   "source": [
    "# E. Conclusion"
   ]
  },
  {
   "cell_type": "markdown",
   "metadata": {},
   "source": [
    "- harga di jabodetabek dan diluar jabodetabek berbeda namun tidak terlalu jauh\n",
    "- harga sangat berpengaruh pada rating, sehingga dalam misi menaikan rating, perlu diperhatikan juga harga yang dijual\n",
    "- rata-rata rating dari toko yang berhasil di scraping datanya ialah 4.87 sehingga dalam persaingan ratingnya sangat perlu untuk ditingkatkan\n",
    "- terdapat 335 produk lain dari pencarian dengan keyword \"seblak\" di tokopedia yang menjadi pesaing\n",
    "- skewnes dari total produk terjual condeng ke sebelah kiri atau mendekati 0, yang artinya banyak produk dalam data yang memiliki penjualan yang lebih rendah dibandingkan dengan outliers ataupun produk yang berhasil menjual dalam jumlah tinggi\n",
    "- lower bound dan upper bound dalam confidence level dari data yang dianggap penjualan perbulan (total terjual dikali harga namun dianggap sebagai penjualan pernulan) ialah berkisar dari 7 juta hingga 10 juta, yang artinya bila tidak mampu menjadi outliers kanan maka penghasilanya kurang lebih segitu"
   ]
  }
 ],
 "metadata": {
  "kernelspec": {
   "display_name": "Python 3",
   "language": "python",
   "name": "python3"
  },
  "language_info": {
   "codemirror_mode": {
    "name": "ipython",
    "version": 3
   },
   "file_extension": ".py",
   "mimetype": "text/x-python",
   "name": "python",
   "nbconvert_exporter": "python",
   "pygments_lexer": "ipython3",
   "version": "3.10.2"
  },
  "orig_nbformat": 4
 },
 "nbformat": 4,
 "nbformat_minor": 2
}
